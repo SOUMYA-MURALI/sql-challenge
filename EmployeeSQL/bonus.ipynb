{
 "cells": [
  {
   "cell_type": "code",
   "execution_count": 22,
   "metadata": {},
   "outputs": [],
   "source": [
    "# DEPENDENCIES AND SETUP\n",
    "\n",
    "import pandas as pd\n",
    "import numpy as np\n",
    "import matplotlib.pyplot as plt\n",
    "import databaseconfig as cfg\n"
   ]
  },
  {
   "cell_type": "code",
   "execution_count": 23,
   "metadata": {},
   "outputs": [],
   "source": [
    "# Connecting jupyter notebook with PGadmin server\n",
    "\n",
    "from sqlalchemy import create_engine\n",
    "engine = create_engine('postgresql://' + cfg.postgresql['user'] + ':' + cfg.postgresql['password']\n",
    "                       + '@' + cfg.postgresql['host'] + ':5432/' + cfg.postgresql['db'])\n",
    "\n",
    "connection = engine.connect()\n",
    "\n"
   ]
  },
  {
   "cell_type": "code",
   "execution_count": 24,
   "metadata": {},
   "outputs": [],
   "source": [
    "# Using select query, finding \"average salary by title\" from the table \"titles\" and from table \"salaries\"\n",
    "# Group by titles\n",
    "# Join based on \"emp_no\"\n",
    "\n",
    "\n",
    "query_avg_salary_by_title = '''\n",
    "SELECT titles.title, ROUND(AVG(salaries.salary),2) AS \"average_salary\"\n",
    "FROM titles\n",
    "JOIN salaries\n",
    "ON titles.emp_no = salaries.emp_no\n",
    "GROUP BY title;\n",
    "'''\n"
   ]
  },
  {
   "cell_type": "code",
   "execution_count": 25,
   "metadata": {},
   "outputs": [
    {
     "data": {
      "text/html": [
       "<div>\n",
       "<style scoped>\n",
       "    .dataframe tbody tr th:only-of-type {\n",
       "        vertical-align: middle;\n",
       "    }\n",
       "\n",
       "    .dataframe tbody tr th {\n",
       "        vertical-align: top;\n",
       "    }\n",
       "\n",
       "    .dataframe thead th {\n",
       "        text-align: right;\n",
       "    }\n",
       "</style>\n",
       "<table border=\"1\" class=\"dataframe\">\n",
       "  <thead>\n",
       "    <tr style=\"text-align: right;\">\n",
       "      <th></th>\n",
       "      <th>title</th>\n",
       "      <th>average_salary</th>\n",
       "    </tr>\n",
       "  </thead>\n",
       "  <tbody>\n",
       "    <tr>\n",
       "      <th>0</th>\n",
       "      <td>Assistant Engineer</td>\n",
       "      <td>48493.20</td>\n",
       "    </tr>\n",
       "    <tr>\n",
       "      <th>1</th>\n",
       "      <td>Engineer</td>\n",
       "      <td>48539.78</td>\n",
       "    </tr>\n",
       "    <tr>\n",
       "      <th>2</th>\n",
       "      <td>Manager</td>\n",
       "      <td>51531.04</td>\n",
       "    </tr>\n",
       "    <tr>\n",
       "      <th>3</th>\n",
       "      <td>Senior Engineer</td>\n",
       "      <td>48506.75</td>\n",
       "    </tr>\n",
       "    <tr>\n",
       "      <th>4</th>\n",
       "      <td>Senior Staff</td>\n",
       "      <td>58503.29</td>\n",
       "    </tr>\n",
       "    <tr>\n",
       "      <th>5</th>\n",
       "      <td>Staff</td>\n",
       "      <td>58465.27</td>\n",
       "    </tr>\n",
       "    <tr>\n",
       "      <th>6</th>\n",
       "      <td>Technique Leader</td>\n",
       "      <td>48580.51</td>\n",
       "    </tr>\n",
       "  </tbody>\n",
       "</table>\n",
       "</div>"
      ],
      "text/plain": [
       "                title  average_salary\n",
       "0  Assistant Engineer        48493.20\n",
       "1            Engineer        48539.78\n",
       "2             Manager        51531.04\n",
       "3     Senior Engineer        48506.75\n",
       "4        Senior Staff        58503.29\n",
       "5               Staff        58465.27\n",
       "6    Technique Leader        48580.51"
      ]
     },
     "execution_count": 25,
     "metadata": {},
     "output_type": "execute_result"
    }
   ],
   "source": [
    "# Reading sql query\n",
    "\n",
    "average_salary_by_title =pd.read_sql(query_avg_salary_by_title,engine)\n",
    "average_salary_by_title\n",
    "\n",
    "#print(type(average_salary_by_title))"
   ]
  },
  {
   "cell_type": "code",
   "execution_count": 26,
   "metadata": {},
   "outputs": [
    {
     "data": {
      "image/png": "[encoded data removed]",
      "text/plain": [
       "<Figure size 432x288 with 1 Axes>"
      ]
     },
     "metadata": {
      "needs_background": "light"
     },
     "output_type": "display_data"
    }
   ],
   "source": [
    "# Creating bar chart of average salary by title\n",
    "\n",
    "\n",
    "x_axis = average_salary_by_title[\"title\"]\n",
    "y_axis = average_salary_by_title[\"average_salary\"]\n",
    "ticks = np.arange(len(x_axis))\n",
    "\n",
    "\n",
    "plt.bar(x_axis, y_axis, align=\"center\", alpha=0.5, color=[\"r\", \"b\", \"g\", \"m\", \"k\", \"y\", \"c\"])\n",
    "plt.xticks(ticks, x_axis, rotation=\"vertical\")\n",
    "\n",
    "# Set Labels & Title\n",
    "plt.ylabel(\"Salaries ($)\")\n",
    "plt.xlabel(\"Employee Titles\")\n",
    "plt.title(\"Average Employee Salary By Title\")\n",
    "\n",
    "# Save Figure\n",
    "plt.savefig(\"../average_salary_by_title.png\",bbox_inches=\"tight\")\n",
    "\n",
    "# Show plot\n",
    "plt.show()\n"
   ]
  },
  {
   "cell_type": "markdown",
   "metadata": {},
   "source": [
    "### TECHNICAL REPORT OUTLINING DATA ENGINEERING STEPS TAKEN\n",
    "\n",
    "\n",
    "Sketched out Entity Relationship Diagram (ERD) of tables based on the csv files provided; specifying data types, primary keys and foreign keys.\n",
    "Exported ERD to PostgreSQL thus creating table schemas and constraints for each of the six CSV files.\n",
    "Imported CSV files to each corresponding SQL table."
   ]
  },
  {
   "cell_type": "code",
   "execution_count": null,
   "metadata": {},
   "outputs": [],
   "source": []
  }
 ],
 "metadata": {
  "kernelspec": {
   "display_name": "Python 3",
   "language": "python",
   "name": "python3"
  },
  "language_info": {
   "codemirror_mode": {
    "name": "ipython",
    "version": 3
   },
   "file_extension": ".py",
   "mimetype": "text/x-python",
   "name": "python",
   "nbconvert_exporter": "python",
   "pygments_lexer": "ipython3",
   "version": "3.7.3"
  }
 },
 "nbformat": 4,
 "nbformat_minor": 2
}
